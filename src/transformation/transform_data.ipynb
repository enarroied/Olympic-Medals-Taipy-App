{
 "cells": [
  {
   "cell_type": "code",
   "execution_count": null,
   "id": "0feaeb20",
   "metadata": {},
   "outputs": [],
   "source": [
    "import pandas as pd"
   ]
  },
  {
   "cell_type": "markdown",
   "id": "661e3292",
   "metadata": {},
   "source": [
    "# Transforming Data for the dashboard\n",
    "\n",
    "This notebook simulates a pipeline that takes in the CSV files with the medal information, and returns clean files to limit the amount of processing carried from within the app."
   ]
  },
  {
   "cell_type": "code",
   "execution_count": null,
   "id": "5aa685a9",
   "metadata": {},
   "outputs": [],
   "source": [
    "df_olympic_cities = pd.read_csv(\"../original_data/olympic_cities.csv\")\n",
    "df_olympic_medals = pd.read_csv(\"../original_data/olympic_medals.csv\")"
   ]
  },
  {
   "cell_type": "code",
   "execution_count": null,
   "id": "0cb72b4c",
   "metadata": {},
   "outputs": [],
   "source": [
    "df_olympic_medals.sample(3)"
   ]
  },
  {
   "cell_type": "code",
   "execution_count": null,
   "id": "8a67de7e",
   "metadata": {},
   "outputs": [],
   "source": [
    "df_olympic_medals.dtypes"
   ]
  },
  {
   "cell_type": "markdown",
   "id": "59bbdb6f",
   "metadata": {},
   "source": [
    "## Changing Data Types"
   ]
  },
  {
   "cell_type": "code",
   "execution_count": null,
   "id": "523db9db",
   "metadata": {},
   "outputs": [],
   "source": [
    "def change_column_dtypes(df, dtype, columns):\n",
    "    \"\"\"\n",
    "    Convert specified columns in a DataFrame to a given dtype.\n",
    "\n",
    "    Parameters:\n",
    "    - df (pd.DataFrame): The input DataFrame.\n",
    "    - dtype (str or type): The target data type (e.g., 'int', 'float', 'datetime64[ns]', etc.).\n",
    "    - columns (list): List of column names to convert.\n",
    "\n",
    "    Returns:\n",
    "    - pd.DataFrame: A new DataFrame with updated column types.\n",
    "\n",
    "    Raises:\n",
    "    - ValueError: If any column is missing or if dtype is invalid.\n",
    "    \"\"\"\n",
    "    df_copy = df.copy()\n",
    "\n",
    "    missing_cols = [col for col in columns if col not in df_copy.columns]\n",
    "    if missing_cols:\n",
    "        raise ValueError(f\"Columns not found in DataFrame: {missing_cols}\")\n",
    "\n",
    "    try:\n",
    "        pd.Series([0]).astype(dtype)  # simple test to validate dtype\n",
    "    except Exception as e:\n",
    "        raise ValueError(f\"Invalid dtype '{dtype}': {e}\")\n",
    "\n",
    "    for col in columns:\n",
    "        try:\n",
    "            df_copy[col] = df_copy[col].astype(dtype)\n",
    "        except Exception as e:\n",
    "            raise ValueError(f\"Could not convert column '{col}' to {dtype}: {e}\")\n",
    "\n",
    "    return df_copy"
   ]
  },
  {
   "cell_type": "code",
   "execution_count": null,
   "id": "4c3ee0aa",
   "metadata": {},
   "outputs": [],
   "source": [
    "df_olympic_medals = change_column_dtypes(\n",
    "    df_olympic_medals,\n",
    "    \"category\",\n",
    "    [\n",
    "        \"Olympiad\",\n",
    "        \"Discipline\",\n",
    "        \"Event\",\n",
    "        \"Olympic_city\",\n",
    "        \"Olympic_season\",\n",
    "        \"Gender\",\n",
    "        \"Code\",\n",
    "        \"Committee\",\n",
    "        \"Committee_type\",\n",
    "        \"Medal_type\"\n",
    "    ],\n",
    ")\n",
    "\n",
    "df_olympic_medals = change_column_dtypes(\n",
    "    df_olympic_medals,\n",
    "    \"str\",\n",
    "    [\"Winner\"],\n",
    ")\n"
   ]
  },
  {
   "cell_type": "code",
   "execution_count": null,
   "id": "06935e94",
   "metadata": {},
   "outputs": [],
   "source": [
    "df_olympic_medals.sample(3)"
   ]
  },
  {
   "cell_type": "markdown",
   "id": "a7b539f9",
   "metadata": {},
   "source": [
    "## Save as Parquet files"
   ]
  },
  {
   "cell_type": "code",
   "execution_count": null,
   "id": "e05d09eb",
   "metadata": {},
   "outputs": [],
   "source": [
    "df_olympic_medals.to_parquet(\"../data/olympic_medals.parquet\")"
   ]
  },
  {
   "cell_type": "code",
   "execution_count": null,
   "id": "385746d9",
   "metadata": {},
   "outputs": [],
   "source": []
  }
 ],
 "metadata": {
  "kernelspec": {
   "display_name": "taipy_41",
   "language": "python",
   "name": "python3"
  },
  "language_info": {
   "codemirror_mode": {
    "name": "ipython",
    "version": 3
   },
   "file_extension": ".py",
   "mimetype": "text/x-python",
   "name": "python",
   "nbconvert_exporter": "python",
   "pygments_lexer": "ipython3",
   "version": "3.12.11"
  }
 },
 "nbformat": 4,
 "nbformat_minor": 5
}
