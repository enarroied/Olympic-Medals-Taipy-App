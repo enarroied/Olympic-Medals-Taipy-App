{
 "cells": [
  {
   "cell_type": "code",
   "execution_count": null,
   "id": "0feaeb20",
   "metadata": {},
   "outputs": [],
   "source": [
    "import pandas as pd\n",
    "import yaml"
   ]
  },
  {
   "cell_type": "markdown",
   "id": "661e3292",
   "metadata": {},
   "source": [
    "# Transforming Data for the dashboard\n",
    "\n",
    "This notebook simulates a pipeline that takes in the CSV files with the medal information, and returns clean files to limit the amount of processing carried from within the app."
   ]
  },
  {
   "cell_type": "code",
   "execution_count": null,
   "id": "5aa685a9",
   "metadata": {},
   "outputs": [],
   "source": [
    "df_olympic_cities = pd.read_csv(\"../original_data/olympic_cities.csv\")\n",
    "df_olympic_medals = pd.read_csv(\"../original_data/olympic_medals.csv\")"
   ]
  },
  {
   "cell_type": "code",
   "execution_count": null,
   "id": "0cb72b4c",
   "metadata": {},
   "outputs": [],
   "source": [
    "df_olympic_medals.sample(3)"
   ]
  },
  {
   "cell_type": "code",
   "execution_count": null,
   "id": "8a67de7e",
   "metadata": {},
   "outputs": [],
   "source": [
    "df_olympic_medals.dtypes"
   ]
  },
  {
   "cell_type": "markdown",
   "id": "401f00be",
   "metadata": {},
   "source": [
    "## Transform Stockholm\n",
    "\n",
    "Stockholm 1956 was only equestrian. The dashboard taook care of that dynamically, but it's kindof heavy for a a little curious event... "
   ]
  },
  {
   "cell_type": "code",
   "execution_count": null,
   "id": "cda33f78",
   "metadata": {},
   "outputs": [],
   "source": [
    "df_olympic_medals.loc[df_olympic_medals[\"Olympiad\"] == \"Stockholm 1956\", \"Olympiad\"] = (\n",
    "    \"Melbourne 1956 (*)\"\n",
    ")"
   ]
  },
  {
   "cell_type": "code",
   "execution_count": null,
   "id": "7d252d35",
   "metadata": {},
   "outputs": [],
   "source": [
    "df_olympic_medals.loc[df_olympic_medals[\"Olympiad\"] == \"Melbourne 1956\", \"Olympiad\"] = (\n",
    "    \"Melbourne 1956 (*)\"\n",
    ")"
   ]
  },
  {
   "cell_type": "markdown",
   "id": "59bbdb6f",
   "metadata": {},
   "source": [
    "## Changing Data Types"
   ]
  },
  {
   "cell_type": "code",
   "execution_count": null,
   "id": "523db9db",
   "metadata": {},
   "outputs": [],
   "source": [
    "def change_column_dtypes(df, dtype, columns):\n",
    "    \"\"\"\n",
    "    Convert specified columns in a DataFrame to a given dtype.\n",
    "\n",
    "    Parameters:\n",
    "    - df (pd.DataFrame): The input DataFrame.\n",
    "    - dtype (str or type): The target data type (e.g., 'int', 'float', 'datetime64[ns]', etc.).\n",
    "    - columns (list): List of column names to convert.\n",
    "\n",
    "    Returns:\n",
    "    - pd.DataFrame: A new DataFrame with updated column types.\n",
    "\n",
    "    Raises:\n",
    "    - ValueError: If any column is missing or if dtype is invalid.\n",
    "    \"\"\"\n",
    "    df_copy = df.copy()\n",
    "\n",
    "    missing_cols = [col for col in columns if col not in df_copy.columns]\n",
    "    if missing_cols:\n",
    "        raise ValueError(f\"Columns not found in DataFrame: {missing_cols}\")\n",
    "\n",
    "    try:\n",
    "        pd.Series([0]).astype(dtype)  # simple test to validate dtype\n",
    "    except Exception as e:\n",
    "        raise ValueError(f\"Invalid dtype '{dtype}': {e}\")\n",
    "\n",
    "    for col in columns:\n",
    "        try:\n",
    "            df_copy[col] = df_copy[col].astype(dtype)\n",
    "        except Exception as e:\n",
    "            raise ValueError(f\"Could not convert column '{col}' to {dtype}: {e}\")\n",
    "\n",
    "    return df_copy"
   ]
  },
  {
   "cell_type": "code",
   "execution_count": null,
   "id": "4c3ee0aa",
   "metadata": {},
   "outputs": [],
   "source": [
    "df_olympic_medals = change_column_dtypes(\n",
    "    df_olympic_medals,\n",
    "    \"category\",\n",
    "    [\n",
    "        \"Olympiad\",\n",
    "        \"Discipline\",\n",
    "        \"Event\",\n",
    "        \"Olympic_city\",\n",
    "        \"Olympic_season\",\n",
    "        \"Gender\",\n",
    "        \"Code\",\n",
    "        \"Committee\",\n",
    "        \"Committee_type\",\n",
    "        \"Medal_type\",\n",
    "    ],\n",
    ")\n",
    "\n",
    "df_olympic_medals = change_column_dtypes(\n",
    "    df_olympic_medals,\n",
    "    \"str\",\n",
    "    [\"Winner\"],\n",
    ")"
   ]
  },
  {
   "cell_type": "code",
   "execution_count": null,
   "id": "06935e94",
   "metadata": {},
   "outputs": [],
   "source": [
    "df_olympic_medals.sample(3)"
   ]
  },
  {
   "cell_type": "code",
   "execution_count": null,
   "id": "ed1e337e",
   "metadata": {},
   "outputs": [],
   "source": [
    "df_olympic_cities.dtypes"
   ]
  },
  {
   "cell_type": "code",
   "execution_count": null,
   "id": "2005b43c",
   "metadata": {},
   "outputs": [],
   "source": [
    "df_olympic_cities = change_column_dtypes(\n",
    "    df_olympic_cities,\n",
    "    \"category\",\n",
    "    [\n",
    "        \"Olympiad\",\n",
    "        \"Olympic_city\",\n",
    "        \"Olympic_season\",\n",
    "        \"Country\",\n",
    "        \"Continent\",\n",
    "        \"ISO_code_mapping\",\n",
    "    ],\n",
    ")"
   ]
  },
  {
   "cell_type": "markdown",
   "id": "aa75b2b1",
   "metadata": {},
   "source": [
    "## Create transformed DataFrames "
   ]
  },
  {
   "cell_type": "code",
   "execution_count": null,
   "id": "8d9b00dc",
   "metadata": {},
   "outputs": [],
   "source": [
    "df_grouped_medals = (\n",
    "    df_olympic_medals.groupby([\"Committee\", \"Medal_type\"], observed=True)\n",
    "    .size()\n",
    "    .unstack(fill_value=0)\n",
    "    .reset_index()\n",
    ")\n",
    "df_grouped_medals[\"Total\"] = (\n",
    "    df_grouped_medals[\"Gold\"]\n",
    "    + df_grouped_medals[\"Silver\"]\n",
    "    + df_grouped_medals[\"Bronze\"]\n",
    ")"
   ]
  },
  {
   "cell_type": "code",
   "execution_count": null,
   "id": "1a1a65e6",
   "metadata": {},
   "outputs": [],
   "source": [
    "# Small DataFrame to display as summary table\n",
    "df_olympic_cities_simplified = df_olympic_cities[\n",
    "    [\n",
    "        \"Olympiad\",\n",
    "        \"Olympic_year\",\n",
    "        \"Olympic_season\",\n",
    "        \"total_medals\",\n",
    "        \"total_medals_gold\",\n",
    "        \"total_medals_silver\",\n",
    "        \"total_medals_bronze\",\n",
    "        \"number_committees\",\n",
    "        \"number_disciplines\",\n",
    "        \"number_events\",\n",
    "        \"Country\",\n",
    "        \"Continent\",\n",
    "    ]\n",
    "]"
   ]
  },
  {
   "cell_type": "code",
   "execution_count": null,
   "id": "72bb19a9",
   "metadata": {},
   "outputs": [],
   "source": [
    "# Define a custom sorting order for 'Medal_type'\n",
    "medal_order = {\"Bronze\": 0, \"Silver\": 1, \"Gold\": 2}\n",
    "\n",
    "df_medals_by_olympiad = (\n",
    "    df_olympic_medals.groupby(\n",
    "        [\"Olympiad\", \"Olympic_year\", \"Medal_type\", \"Olympic_season\"], observed=True\n",
    "    )\n",
    "    .size()\n",
    "    .reset_index(name=\"Medal_count\")\n",
    ")\n",
    "\n",
    "# Sort the DataFrame first by 'Olympic_year' and then by 'Medal_type' using the custom sorting order\n",
    "df_medals_by_olympiad[\"Medal_type_code\"] = df_medals_by_olympiad[\"Medal_type\"].map(\n",
    "    medal_order\n",
    ")\n",
    "df_medals_by_olympiad = df_medals_by_olympiad.sort_values(\n",
    "    by=[\"Olympic_year\", \"Medal_type_code\"]\n",
    ")\n",
    "\n",
    "# Reset index without creating a new column\n",
    "df_medals_by_olympiad.reset_index(drop=True, inplace=True)"
   ]
  },
  {
   "cell_type": "markdown",
   "id": "78830fd8",
   "metadata": {},
   "source": [
    "## Create lists"
   ]
  },
  {
   "cell_type": "code",
   "execution_count": null,
   "id": "099b109e",
   "metadata": {},
   "outputs": [],
   "source": [
    "list_olympiads = [\"All\"] + df_olympic_medals[\"Olympiad\"].unique().tolist()\n",
    "\n",
    "with open(\"../parameters/list_olympiads.yml\", \"w\") as file:\n",
    "    yaml.dump(list_olympiads, file, default_flow_style=False)"
   ]
  },
  {
   "cell_type": "code",
   "execution_count": null,
   "id": "d3933739",
   "metadata": {},
   "outputs": [],
   "source": [
    "list_committees = sorted(df_olympic_medals[\"Committee\"].unique().tolist())\n",
    "\n",
    "with open(\"../parameters/list_committees.yml\", \"w\") as file:\n",
    "    yaml.dump(list_committees, file, default_flow_style=False)"
   ]
  },
  {
   "cell_type": "markdown",
   "id": "a7b539f9",
   "metadata": {},
   "source": [
    "## Save as Parquet files"
   ]
  },
  {
   "cell_type": "code",
   "execution_count": null,
   "id": "e05d09eb",
   "metadata": {},
   "outputs": [],
   "source": [
    "df_olympic_medals.to_parquet(\"../data/olympic_medals.parquet\", index=False)"
   ]
  },
  {
   "cell_type": "code",
   "execution_count": null,
   "id": "c699ff95",
   "metadata": {},
   "outputs": [],
   "source": [
    "df_olympic_cities.to_parquet(\"../data/olympic_cities.parquet\", index=False)"
   ]
  },
  {
   "cell_type": "code",
   "execution_count": null,
   "id": "385746d9",
   "metadata": {},
   "outputs": [],
   "source": [
    "df_grouped_medals.to_parquet(\"../data/grouped_medals.parquet\", index=False)"
   ]
  },
  {
   "cell_type": "code",
   "execution_count": null,
   "id": "c0fedbf1",
   "metadata": {},
   "outputs": [],
   "source": [
    "df_olympic_cities_simplified.to_parquet(\n",
    "    \"../data/olympic_cities_simplified.parquet\", index=False\n",
    ")"
   ]
  },
  {
   "cell_type": "code",
   "execution_count": null,
   "id": "b4854ad9",
   "metadata": {},
   "outputs": [],
   "source": [
    "df_medals_by_olympiad.to_parquet(\"../data/medals_by_olympiad.parquet\", index=False)"
   ]
  }
 ],
 "metadata": {
  "kernelspec": {
   "display_name": "taipy_41",
   "language": "python",
   "name": "python3"
  },
  "language_info": {
   "codemirror_mode": {
    "name": "ipython",
    "version": 3
   },
   "file_extension": ".py",
   "mimetype": "text/x-python",
   "name": "python",
   "nbconvert_exporter": "python",
   "pygments_lexer": "ipython3",
   "version": "3.12.11"
  }
 },
 "nbformat": 4,
 "nbformat_minor": 5
}
