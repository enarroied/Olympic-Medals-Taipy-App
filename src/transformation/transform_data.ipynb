{
 "cells": [
  {
   "cell_type": "code",
   "execution_count": null,
   "id": "0feaeb20",
   "metadata": {},
   "outputs": [],
   "source": [
    "import pandas as pd\n",
    "import yaml"
   ]
  },
  {
   "cell_type": "markdown",
   "id": "661e3292",
   "metadata": {},
   "source": [
    "# Transforming Data for the dashboard\n",
    "\n",
    "This notebook simulates a pipeline that takes in the CSV files with the medal information, and returns clean files to limit the amount of processing carried from within the app."
   ]
  },
  {
   "cell_type": "code",
   "execution_count": null,
   "id": "5aa685a9",
   "metadata": {},
   "outputs": [],
   "source": [
    "df_olympic_cities = pd.read_csv(\"../original_data/olympic_cities.csv\")\n",
    "df_olympic_medals = pd.read_csv(\"../original_data/olympic_medals.csv\")"
   ]
  },
  {
   "cell_type": "code",
   "execution_count": null,
   "id": "0cb72b4c",
   "metadata": {},
   "outputs": [],
   "source": [
    "df_olympic_medals.sample(3)"
   ]
  },
  {
   "cell_type": "code",
   "execution_count": null,
   "id": "8a67de7e",
   "metadata": {},
   "outputs": [],
   "source": [
    "df_olympic_medals.dtypes"
   ]
  },
  {
   "cell_type": "markdown",
   "id": "401f00be",
   "metadata": {},
   "source": [
    "## Transform Stockholm\n",
    "\n",
    "Stockholm 1956 was only equestrian. The dashboard taook care of that dynamically, but it's kindof heavy for a a little curious event... "
   ]
  },
  {
   "cell_type": "code",
   "execution_count": null,
   "id": "cda33f78",
   "metadata": {},
   "outputs": [],
   "source": [
    "df_olympic_medals.loc[df_olympic_medals[\"Olympiad\"] == \"Stockholm 1956\", \"Olympiad\"] = (\n",
    "    \"Melbourne 1956 (*)\"\n",
    ")"
   ]
  },
  {
   "cell_type": "code",
   "execution_count": null,
   "id": "7d252d35",
   "metadata": {},
   "outputs": [],
   "source": [
    "df_olympic_medals.loc[df_olympic_medals[\"Olympiad\"] == \"Melbourne 1956\", \"Olympiad\"] = (\n",
    "    \"Melbourne 1956 (*)\"\n",
    ")"
   ]
  },
  {
   "cell_type": "markdown",
   "id": "59bbdb6f",
   "metadata": {},
   "source": [
    "## Changing Data Types"
   ]
  },
  {
   "cell_type": "code",
   "execution_count": null,
   "id": "523db9db",
   "metadata": {},
   "outputs": [],
   "source": [
    "def change_column_dtypes(df, dtype, columns):\n",
    "    \"\"\"\n",
    "    Convert specified columns in a DataFrame to a given dtype.\n",
    "\n",
    "    Parameters:\n",
    "    - df (pd.DataFrame): The input DataFrame.\n",
    "    - dtype (str or type): The target data type (e.g., 'int', 'float', 'datetime64[ns]', etc.).\n",
    "    - columns (list): List of column names to convert.\n",
    "\n",
    "    Returns:\n",
    "    - pd.DataFrame: A new DataFrame with updated column types.\n",
    "\n",
    "    Raises:\n",
    "    - ValueError: If any column is missing or if dtype is invalid.\n",
    "    \"\"\"\n",
    "    df_copy = df.copy()\n",
    "\n",
    "    missing_cols = [col for col in columns if col not in df_copy.columns]\n",
    "    if missing_cols:\n",
    "        raise ValueError(f\"Columns not found in DataFrame: {missing_cols}\")\n",
    "\n",
    "    try:\n",
    "        pd.Series([0]).astype(dtype)  # simple test to validate dtype\n",
    "    except Exception as e:\n",
    "        raise ValueError(f\"Invalid dtype '{dtype}': {e}\")\n",
    "\n",
    "    for col in columns:\n",
    "        try:\n",
    "            df_copy[col] = df_copy[col].astype(dtype)\n",
    "        except Exception as e:\n",
    "            raise ValueError(f\"Could not convert column '{col}' to {dtype}: {e}\")\n",
    "\n",
    "    return df_copy"
   ]
  },
  {
   "cell_type": "code",
   "execution_count": null,
   "id": "4c3ee0aa",
   "metadata": {},
   "outputs": [],
   "source": [
    "df_olympic_medals = change_column_dtypes(\n",
    "    df_olympic_medals,\n",
    "    \"category\",\n",
    "    [\n",
    "        \"Olympiad\",\n",
    "        \"Discipline\",\n",
    "        \"Event\",\n",
    "        \"Olympic_city\",\n",
    "        \"Olympic_season\",\n",
    "        \"Gender\",\n",
    "        \"Code\",\n",
    "        \"Committee\",\n",
    "        \"Committee_type\",\n",
    "        \"Medal_type\",\n",
    "    ],\n",
    ")\n",
    "\n",
    "df_olympic_medals = change_column_dtypes(\n",
    "    df_olympic_medals,\n",
    "    \"str\",\n",
    "    [\"Winner\"],\n",
    ")"
   ]
  },
  {
   "cell_type": "code",
   "execution_count": null,
   "id": "06935e94",
   "metadata": {},
   "outputs": [],
   "source": [
    "df_olympic_medals.sample(3)"
   ]
  },
  {
   "cell_type": "code",
   "execution_count": null,
   "id": "ed1e337e",
   "metadata": {},
   "outputs": [],
   "source": [
    "df_olympic_cities.dtypes"
   ]
  },
  {
   "cell_type": "code",
   "execution_count": null,
   "id": "2005b43c",
   "metadata": {},
   "outputs": [],
   "source": [
    "df_olympic_cities = change_column_dtypes(\n",
    "    df_olympic_cities,\n",
    "    \"category\",\n",
    "    [\n",
    "        \"Olympiad\",\n",
    "        \"Olympic_city\",\n",
    "        \"Olympic_season\",\n",
    "        \"Country\",\n",
    "        \"Continent\",\n",
    "        \"ISO_code_mapping\",\n",
    "    ],\n",
    ")"
   ]
  },
  {
   "cell_type": "markdown",
   "id": "aa75b2b1",
   "metadata": {},
   "source": [
    "## Create transformed DataFrames "
   ]
  },
  {
   "cell_type": "code",
   "execution_count": null,
   "id": "1a1a65e6",
   "metadata": {},
   "outputs": [],
   "source": [
    "# Small DataFrame to display as summary table\n",
    "df_olympic_cities_simplified = df_olympic_cities[\n",
    "    [\n",
    "        \"Olympiad\",\n",
    "        \"Olympic_year\",\n",
    "        \"Olympic_season\",\n",
    "        \"total_medals\",\n",
    "        \"total_medals_gold\",\n",
    "        \"total_medals_silver\",\n",
    "        \"total_medals_bronze\",\n",
    "        \"number_committees\",\n",
    "        \"number_disciplines\",\n",
    "        \"number_events\",\n",
    "        \"Country\",\n",
    "        \"Continent\",\n",
    "    ]\n",
    "]"
   ]
  },
  {
   "cell_type": "code",
   "execution_count": null,
   "id": "72bb19a9",
   "metadata": {},
   "outputs": [],
   "source": [
    "# Define a custom sorting order for 'Medal_type'\n",
    "medal_order = {\"Bronze\": 0, \"Silver\": 1, \"Gold\": 2}\n",
    "\n",
    "df_medals_by_olympiad = (\n",
    "    df_olympic_medals.groupby(\n",
    "        [\"Olympiad\", \"Olympic_year\", \"Medal_type\", \"Olympic_season\"], observed=True\n",
    "    )\n",
    "    .size()\n",
    "    .reset_index(name=\"Medal_count\")\n",
    ")\n",
    "\n",
    "# Sort the DataFrame first by 'Olympic_year' and then by 'Medal_type' using the custom sorting order\n",
    "df_medals_by_olympiad[\"Medal_type_code\"] = df_medals_by_olympiad[\"Medal_type\"].map(\n",
    "    medal_order\n",
    ")\n",
    "df_medals_by_olympiad = df_medals_by_olympiad.sort_values(\n",
    "    by=[\"Olympic_year\", \"Medal_type_code\"]\n",
    ")\n",
    "\n",
    "# Reset index without creating a new column\n",
    "df_medals_by_olympiad.reset_index(drop=True, inplace=True)"
   ]
  },
  {
   "cell_type": "markdown",
   "id": "78830fd8",
   "metadata": {},
   "source": [
    "## Create lists"
   ]
  },
  {
   "cell_type": "code",
   "execution_count": null,
   "id": "099b109e",
   "metadata": {},
   "outputs": [],
   "source": [
    "list_olympiads = [\"All\"] + df_olympic_medals[\"Olympiad\"].unique().tolist()\n",
    "\n",
    "with open(\"../parameters/list_olympiads.yml\", \"w\") as file:\n",
    "    yaml.dump(list_olympiads, file, default_flow_style=False)"
   ]
  },
  {
   "cell_type": "code",
   "execution_count": null,
   "id": "d3933739",
   "metadata": {},
   "outputs": [],
   "source": [
    "list_committees = sorted(df_olympic_medals[\"Committee\"].unique().tolist())\n",
    "\n",
    "with open(\"../parameters/list_committees.yml\", \"w\") as file:\n",
    "    yaml.dump(list_committees, file, default_flow_style=False)"
   ]
  },
  {
   "cell_type": "markdown",
   "id": "746c1ba0",
   "metadata": {},
   "source": [
    "## Grouped DataFrames\n",
    "\n",
    "### Pivot table data with medal counts\n",
    "\n",
    "We precompute a medal count table containing totals for Gold, Silver, and Bronze medals. This approach improves the performance of dashboard filters and enhances code readability."
   ]
  },
  {
   "cell_type": "code",
   "execution_count": null,
   "id": "eea458ef",
   "metadata": {},
   "outputs": [],
   "source": [
    "def create_pivot_total(df_olympic_medals, list_committees):\n",
    "    years_olympiads = (\n",
    "        df_olympic_medals[[\"Olympic_year\", \"Olympiad\", \"Olympic_season\"]]\n",
    "        .drop_duplicates()\n",
    "        .reset_index(drop=True)\n",
    "    )\n",
    "    committees = pd.DataFrame({\"Committee\": list_committees})\n",
    "    # Cartesian product of years/olympiads and committees\n",
    "    full_grid = years_olympiads.merge(committees, how=\"cross\")\n",
    "    # The merge is needed because all committees are not present at all olympiads\n",
    "    df_totals = (\n",
    "        df_olympic_medals.groupby(\n",
    "            [\"Olympic_year\", \"Olympiad\", \"Committee\", \"Olympic_season\"], observed=True\n",
    "        )\n",
    "        .size()\n",
    "        .reset_index(name=\"Medal_count\")\n",
    "    )\n",
    "    df_totals = full_grid.merge(\n",
    "        df_totals,\n",
    "        on=[\"Olympic_year\", \"Olympiad\", \"Committee\", \"Olympic_season\"],\n",
    "        how=\"left\",\n",
    "    ).fillna({\"Medal_count\": 0})\n",
    "\n",
    "    df_pivot_total_medals = df_totals.pivot_table(\n",
    "        index=[\"Olympic_year\", \"Olympiad\", \"Olympic_season\"],\n",
    "        columns=\"Committee\",\n",
    "        values=\"Medal_count\",\n",
    "        fill_value=0,\n",
    "        observed=True,\n",
    "    ).reset_index()\n",
    "\n",
    "    df_totals_max = (\n",
    "        df_pivot_total_medals.set_index([\"Olympic_year\", \"Olympiad\", \"Olympic_season\"])\n",
    "        .sum(axis=1)\n",
    "        .reset_index(name=\"Total_medals\")\n",
    "    )\n",
    "    df_pivot_total_medals = df_pivot_total_medals.merge(\n",
    "        df_totals_max, on=[\"Olympic_year\", \"Olympiad\", \"Olympic_season\"], how=\"left\"\n",
    "    )\n",
    "    return df_pivot_total_medals"
   ]
  },
  {
   "cell_type": "code",
   "execution_count": null,
   "id": "98f72899",
   "metadata": {},
   "outputs": [],
   "source": [
    "df_pivot_total_medals = create_pivot_total(df_olympic_medals, list_committees)\n",
    "df_pivot_gold_medals = create_pivot_total(\n",
    "    df_olympic_medals[df_olympic_medals[\"Medal_type\"] == \"Gold\"], list_committees\n",
    ")\n",
    "df_pivot_silver_medals = create_pivot_total(\n",
    "    df_olympic_medals[df_olympic_medals[\"Medal_type\"] == \"Silver\"], list_committees\n",
    ")\n",
    "df_pivot_bronze_medals = create_pivot_total(\n",
    "    df_olympic_medals[df_olympic_medals[\"Medal_type\"] == \"Bronze\"], list_committees\n",
    ")"
   ]
  },
  {
   "cell_type": "code",
   "execution_count": null,
   "id": "8a58b318",
   "metadata": {},
   "outputs": [],
   "source": [
    "df_pivot_total_medals[\"Medal_type\"] = \"All\"\n",
    "df_pivot_gold_medals[\"Medal_type\"] = \"Gold\"\n",
    "df_pivot_silver_medals[\"Medal_type\"] = \"Silver\"\n",
    "df_pivot_bronze_medals[\"Medal_type\"] = \"Bronze\""
   ]
  },
  {
   "cell_type": "code",
   "execution_count": null,
   "id": "f63e75d8",
   "metadata": {},
   "outputs": [],
   "source": [
    "df_pivot_total_medals = pd.concat(\n",
    "    [\n",
    "        df_pivot_total_medals,\n",
    "        df_pivot_gold_medals,\n",
    "        df_pivot_silver_medals,\n",
    "        df_pivot_bronze_medals,\n",
    "    ]\n",
    ")"
   ]
  },
  {
   "cell_type": "markdown",
   "id": "759150df",
   "metadata": {},
   "source": [
    "### Medals by Committee"
   ]
  },
  {
   "cell_type": "code",
   "execution_count": null,
   "id": "f95be259",
   "metadata": {},
   "outputs": [],
   "source": [
    "def aggregate_medals_by_committee(df_medals, olympiad):\n",
    "    df_medals_by_committee = df_medals.copy()\n",
    "\n",
    "    if olympiad != \"All\":\n",
    "        df_medals_by_committee = df_medals_by_committee[\n",
    "            df_medals_by_committee[\"Olympiad\"] == olympiad\n",
    "        ]\n",
    "    # Aggregating data to get count of medals by Medal_type for each Committee\n",
    "    df_aggregated = (\n",
    "        df_medals_by_committee.groupby([\"Committee\", \"Medal_type\"], observed=True)\n",
    "        .size()\n",
    "        .unstack(fill_value=0)\n",
    "    )\n",
    "    # Sort DataFrame by count of gold and silver medals\n",
    "    df_aggregated = df_aggregated.sort_values(by=[\"Gold\", \"Silver\"], ascending=False)\n",
    "    df_aggregated[\"Olympiad\"] = olympiad\n",
    "    df_aggregated.reset_index(inplace=True)\n",
    "    return df_aggregated"
   ]
  },
  {
   "cell_type": "code",
   "execution_count": null,
   "id": "07ff3a1d",
   "metadata": {},
   "outputs": [],
   "source": [
    "all_groups = []\n",
    "\n",
    "for olympiad in list_olympiads:\n",
    "    all_groups.append(aggregate_medals_by_committee(df_olympic_medals, olympiad))\n",
    "\n",
    "df_grouped_medals_olympiads = pd.concat(all_groups)\n",
    "df_grouped_medals_olympiads[\"Total\"] = (\n",
    "    df_grouped_medals_olympiads[\"Gold\"]\n",
    "    + df_grouped_medals_olympiads[\"Silver\"]\n",
    "    + df_grouped_medals_olympiads[\"Bronze\"]\n",
    ")"
   ]
  },
  {
   "cell_type": "markdown",
   "id": "a7b539f9",
   "metadata": {},
   "source": [
    "## Save as Parquet files"
   ]
  },
  {
   "cell_type": "code",
   "execution_count": null,
   "id": "e05d09eb",
   "metadata": {},
   "outputs": [],
   "source": [
    "df_olympic_medals.to_parquet(\"../data/olympic_medals.parquet\", index=False)"
   ]
  },
  {
   "cell_type": "code",
   "execution_count": null,
   "id": "c699ff95",
   "metadata": {},
   "outputs": [],
   "source": [
    "df_olympic_cities.to_parquet(\"../data/olympic_cities.parquet\", index=False)"
   ]
  },
  {
   "cell_type": "code",
   "execution_count": null,
   "id": "c0fedbf1",
   "metadata": {},
   "outputs": [],
   "source": [
    "df_olympic_cities_simplified.to_parquet(\n",
    "    \"../data/olympic_cities_simplified.parquet\", index=False\n",
    ")"
   ]
  },
  {
   "cell_type": "code",
   "execution_count": null,
   "id": "b4854ad9",
   "metadata": {},
   "outputs": [],
   "source": [
    "df_medals_by_olympiad.to_parquet(\"../data/medals_by_olympiad.parquet\", index=False)"
   ]
  },
  {
   "cell_type": "code",
   "execution_count": null,
   "id": "382df3a8",
   "metadata": {},
   "outputs": [],
   "source": [
    "df_pivot_total_medals.to_parquet(\n",
    "    \"../data/total_medals_by_olympiad_and_committee.parquet\", index=False\n",
    ")"
   ]
  },
  {
   "cell_type": "code",
   "execution_count": null,
   "id": "aedd0c1a",
   "metadata": {},
   "outputs": [],
   "source": [
    "df_grouped_medals_olympiads.to_parquet(\n",
    "    \"../data/grouped_medals_olympiads.parquet\", index=False\n",
    ")"
   ]
  }
 ],
 "metadata": {
  "kernelspec": {
   "display_name": "taipy_41",
   "language": "python",
   "name": "python3"
  },
  "language_info": {
   "codemirror_mode": {
    "name": "ipython",
    "version": 3
   },
   "file_extension": ".py",
   "mimetype": "text/x-python",
   "name": "python",
   "nbconvert_exporter": "python",
   "pygments_lexer": "ipython3",
   "version": "3.12.11"
  }
 },
 "nbformat": 4,
 "nbformat_minor": 5
}
